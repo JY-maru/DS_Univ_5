{
 "cells": [
  {
   "cell_type": "code",
   "execution_count": 1,
   "metadata": {},
   "outputs": [],
   "source": [
    "import selenium\n",
    "from selenium import webdriver\n",
    "\n",
    "\n",
    "from bs4 import BeautifulSoup\n",
    "import seaborn as sns\n",
    "import matplotlib.pyplot as plt\n",
    "import pandas as pd\n",
    "import time"
   ]
  },
  {
   "cell_type": "code",
   "execution_count": 17,
   "metadata": {},
   "outputs": [
    {
     "name": "stderr",
     "output_type": "stream",
     "text": [
      "C:\\Users\\cxz01\\AppData\\Local\\Temp\\ipykernel_16548\\3010246121.py:3: DeprecationWarning: executable_path has been deprecated, please pass in a Service object\n",
      "  browser = webdriver.Chrome(path)\n"
     ]
    },
    {
     "ename": "WebDriverException",
     "evalue": "Message: disconnected: not connected to DevTools\n  (failed to check if window was closed: disconnected: not connected to DevTools)\n  (Session info: chrome=113.0.5672.127)\nStacktrace:\nBacktrace:\n\tGetHandleVerifier [0x00368893+48451]\n\t(No symbol) [0x002FB8A1]\n\t(No symbol) [0x00205058]\n\t(No symbol) [0x001F7BB6]\n\t(No symbol) [0x001F78D9]\n\t(No symbol) [0x00206460]\n\t(No symbol) [0x0025C038]\n\t(No symbol) [0x0024A0B6]\n\t(No symbol) [0x00227E08]\n\t(No symbol) [0x00228F2D]\n\tGetHandleVerifier [0x005C8E3A+2540266]\n\tGetHandleVerifier [0x00608959+2801161]\n\tGetHandleVerifier [0x0060295C+2776588]\n\tGetHandleVerifier [0x003F2280+612144]\n\t(No symbol) [0x00304F6C]\n\t(No symbol) [0x003011D8]\n\t(No symbol) [0x003012BB]\n\t(No symbol) [0x002F4857]\n\tBaseThreadInitThunk [0x76427D59+25]\n\tRtlInitializeExceptionChain [0x7783B74B+107]\n\tRtlClearBits [0x7783B6CF+191]\n",
     "output_type": "error",
     "traceback": [
      "\u001b[1;31m---------------------------------------------------------------------------\u001b[0m",
      "\u001b[1;31mWebDriverException\u001b[0m                        Traceback (most recent call last)",
      "Cell \u001b[1;32mIn[17], line 41\u001b[0m\n\u001b[0;32m     39\u001b[0m browser\u001b[38;5;241m.\u001b[39mget(detailURL)\n\u001b[0;32m     40\u001b[0m time\u001b[38;5;241m.\u001b[39msleep(\u001b[38;5;241m1\u001b[39m)\n\u001b[1;32m---> 41\u001b[0m pageSource \u001b[38;5;241m=\u001b[39m BeautifulSoup(\u001b[43mbrowser\u001b[49m\u001b[38;5;241;43m.\u001b[39;49m\u001b[43mpage_source\u001b[49m)\n\u001b[0;32m     43\u001b[0m \u001b[38;5;66;03m# table_rows를 정의합니다\u001b[39;00m\n\u001b[0;32m     44\u001b[0m table_rows \u001b[38;5;241m=\u001b[39m pageSource\u001b[38;5;241m.\u001b[39mfind_all(\u001b[38;5;124m'\u001b[39m\u001b[38;5;124mtr\u001b[39m\u001b[38;5;124m'\u001b[39m)\n",
      "File \u001b[1;32m~\\anaconda3\\envs\\2023-DS-A\\lib\\site-packages\\selenium\\webdriver\\remote\\webdriver.py:541\u001b[0m, in \u001b[0;36mWebDriver.page_source\u001b[1;34m(self)\u001b[0m\n\u001b[0;32m    532\u001b[0m \u001b[38;5;129m@property\u001b[39m\n\u001b[0;32m    533\u001b[0m \u001b[38;5;28;01mdef\u001b[39;00m \u001b[38;5;21mpage_source\u001b[39m(\u001b[38;5;28mself\u001b[39m) \u001b[38;5;241m-\u001b[39m\u001b[38;5;241m>\u001b[39m \u001b[38;5;28mstr\u001b[39m:\n\u001b[0;32m    534\u001b[0m     \u001b[38;5;124;03m\"\"\"Gets the source of the current page.\u001b[39;00m\n\u001b[0;32m    535\u001b[0m \n\u001b[0;32m    536\u001b[0m \u001b[38;5;124;03m    :Usage:\u001b[39;00m\n\u001b[1;32m   (...)\u001b[0m\n\u001b[0;32m    539\u001b[0m \u001b[38;5;124;03m            driver.page_source\u001b[39;00m\n\u001b[0;32m    540\u001b[0m \u001b[38;5;124;03m    \"\"\"\u001b[39;00m\n\u001b[1;32m--> 541\u001b[0m     \u001b[38;5;28;01mreturn\u001b[39;00m \u001b[38;5;28;43mself\u001b[39;49m\u001b[38;5;241;43m.\u001b[39;49m\u001b[43mexecute\u001b[49m\u001b[43m(\u001b[49m\u001b[43mCommand\u001b[49m\u001b[38;5;241;43m.\u001b[39;49m\u001b[43mGET_PAGE_SOURCE\u001b[49m\u001b[43m)\u001b[49m[\u001b[38;5;124m\"\u001b[39m\u001b[38;5;124mvalue\u001b[39m\u001b[38;5;124m\"\u001b[39m]\n",
      "File \u001b[1;32m~\\anaconda3\\envs\\2023-DS-A\\lib\\site-packages\\selenium\\webdriver\\remote\\webdriver.py:440\u001b[0m, in \u001b[0;36mWebDriver.execute\u001b[1;34m(self, driver_command, params)\u001b[0m\n\u001b[0;32m    438\u001b[0m response \u001b[38;5;241m=\u001b[39m \u001b[38;5;28mself\u001b[39m\u001b[38;5;241m.\u001b[39mcommand_executor\u001b[38;5;241m.\u001b[39mexecute(driver_command, params)\n\u001b[0;32m    439\u001b[0m \u001b[38;5;28;01mif\u001b[39;00m response:\n\u001b[1;32m--> 440\u001b[0m     \u001b[38;5;28;43mself\u001b[39;49m\u001b[38;5;241;43m.\u001b[39;49m\u001b[43merror_handler\u001b[49m\u001b[38;5;241;43m.\u001b[39;49m\u001b[43mcheck_response\u001b[49m\u001b[43m(\u001b[49m\u001b[43mresponse\u001b[49m\u001b[43m)\u001b[49m\n\u001b[0;32m    441\u001b[0m     response[\u001b[38;5;124m\"\u001b[39m\u001b[38;5;124mvalue\u001b[39m\u001b[38;5;124m\"\u001b[39m] \u001b[38;5;241m=\u001b[39m \u001b[38;5;28mself\u001b[39m\u001b[38;5;241m.\u001b[39m_unwrap_value(response\u001b[38;5;241m.\u001b[39mget(\u001b[38;5;124m\"\u001b[39m\u001b[38;5;124mvalue\u001b[39m\u001b[38;5;124m\"\u001b[39m, \u001b[38;5;28;01mNone\u001b[39;00m))\n\u001b[0;32m    442\u001b[0m     \u001b[38;5;28;01mreturn\u001b[39;00m response\n",
      "File \u001b[1;32m~\\anaconda3\\envs\\2023-DS-A\\lib\\site-packages\\selenium\\webdriver\\remote\\errorhandler.py:245\u001b[0m, in \u001b[0;36mErrorHandler.check_response\u001b[1;34m(self, response)\u001b[0m\n\u001b[0;32m    243\u001b[0m         alert_text \u001b[38;5;241m=\u001b[39m value[\u001b[38;5;124m\"\u001b[39m\u001b[38;5;124malert\u001b[39m\u001b[38;5;124m\"\u001b[39m]\u001b[38;5;241m.\u001b[39mget(\u001b[38;5;124m\"\u001b[39m\u001b[38;5;124mtext\u001b[39m\u001b[38;5;124m\"\u001b[39m)\n\u001b[0;32m    244\u001b[0m     \u001b[38;5;28;01mraise\u001b[39;00m exception_class(message, screen, stacktrace, alert_text)  \u001b[38;5;66;03m# type: ignore[call-arg]  # mypy is not smart enough here\u001b[39;00m\n\u001b[1;32m--> 245\u001b[0m \u001b[38;5;28;01mraise\u001b[39;00m exception_class(message, screen, stacktrace)\n",
      "\u001b[1;31mWebDriverException\u001b[0m: Message: disconnected: not connected to DevTools\n  (failed to check if window was closed: disconnected: not connected to DevTools)\n  (Session info: chrome=113.0.5672.127)\nStacktrace:\nBacktrace:\n\tGetHandleVerifier [0x00368893+48451]\n\t(No symbol) [0x002FB8A1]\n\t(No symbol) [0x00205058]\n\t(No symbol) [0x001F7BB6]\n\t(No symbol) [0x001F78D9]\n\t(No symbol) [0x00206460]\n\t(No symbol) [0x0025C038]\n\t(No symbol) [0x0024A0B6]\n\t(No symbol) [0x00227E08]\n\t(No symbol) [0x00228F2D]\n\tGetHandleVerifier [0x005C8E3A+2540266]\n\tGetHandleVerifier [0x00608959+2801161]\n\tGetHandleVerifier [0x0060295C+2776588]\n\tGetHandleVerifier [0x003F2280+612144]\n\t(No symbol) [0x00304F6C]\n\t(No symbol) [0x003011D8]\n\t(No symbol) [0x003012BB]\n\t(No symbol) [0x002F4857]\n\tBaseThreadInitThunk [0x76427D59+25]\n\tRtlInitializeExceptionChain [0x7783B74B+107]\n\tRtlClearBits [0x7783B6CF+191]\n"
     ]
    }
   ],
   "source": [
    "mangoData=pd.DataFrame(columns=[\"title\",\"location\",\"estimation\",\"viewCount\",\"reviewCount\"])\n",
    "path= r\"C:\\Users\\cxz01\\OneDrive\\바탕 화면\\soongsil university\\데이터사이언스\\팀프로젝트\\DS_Univ_5\\web_crawling\\chromedriver_win32\\chromedriver.exe\"\n",
    "browser = webdriver.Chrome(path)\n",
    "areaList = [\"가로수길\",\"강남역\",\"강동구\",\"개포\",\"수서\",\"일원\",\"관악구\",\"교대\",\"서초\",\"구로구\",\"금천구\",\"논현동\",\"대치동\",\"도곡동\",\"동작\",\"사당\",\"등촌\",\"강서\",\"목동\",\"양천\",\"방배\",\"반포\",\"잠원\",\"방이동\",\"삼성동\",\"서래마을\",\"송파\",'가락','신사','압구정','신첨','잠실','양재동','여의도','역삼','선릉','영등포구','청담동','건대','군자','광진','광화문','노원구','대학로','혜화','동대문구','동부이촌동','마포','공덕','명동','남산','삼청','인사','상암','성산','서대문구','성북구','수유','도봉','강북','시청','남대문','신촌','이대','연남동','왕십리','성동','용산','숙대','은평구','이태원','한남동','종로','중구','중랑구','합정','망원','홍대']\n",
    "breakSign = False\n",
    "\n",
    "#검색 총 page 개수: 50\n",
    "for area in areaList:\n",
    "    for page in range(1,51):\n",
    "        if breakSign:\n",
    "            breakSign = False\n",
    "            break\n",
    "        mangoplateURL=f\"https://www.mangoplate.com/search/{area}?keyword={area}&page={page}\"\n",
    "        browser.get(mangoplateURL)\n",
    "        time.sleep(2)\n",
    "        pageSource = BeautifulSoup(browser.page_source)\n",
    "        infoList=pageSource.find_all(\"div\", attrs = {\"class\":\"info\"})\n",
    "        \n",
    "        for info in infoList[0:20]:\n",
    "            title = info.find(\"h2\", attrs = {\"class\" : \"title\"}).get_text()\n",
    "            detailURL = info.find(\"a\")[\"href\"]\n",
    "            try:\n",
    "                estimation = info.find(\"strong\", attrs = {\"class\" : \"point search_point\"}).get_text()\n",
    "            except:\n",
    "                estimation = info.find(\"strong\", attrs = {\"class\" : \"point search_point expected\"}).get_text()\n",
    "            viewCount = info.find(\"span\", attrs = {\"class\" : \"view_count\"}).get_text()\n",
    "            reviewCount = info.find(\"span\", attrs = {\"class\" : \"review_count\"}).get_text()\n",
    "\n",
    "            title = title.strip()\n",
    "            detailURL = \"https://www.mangoplate.com\" + detailURL\n",
    "            try:\n",
    "                estimation = float(estimation)\n",
    "            except:\n",
    "                breakSign = True\n",
    "                break\n",
    "            viewCount = float(\"\".join(viewCount.split(\",\")))\n",
    "            reviewCount = float(\"\".join(reviewCount.split(\",\")))\n",
    "\n",
    "            browser.get(detailURL)\n",
    "            time.sleep(1)\n",
    "            pageSource = BeautifulSoup(browser.page_source)\n",
    "            \n",
    "            # table_rows를 정의합니다\n",
    "            table_rows = pageSource.find_all('tr')\n",
    "\n",
    "            foodType = None\n",
    "            price = None\n",
    "            runTime = None\n",
    "            location = None\n",
    "            \n",
    "            # 모든 행을 순회합니다\n",
    "            for row in table_rows:\n",
    "                ths = row.find_all('th')\n",
    "                tds = row.find_all('td')\n",
    "\n",
    "                for i, th in enumerate(ths):\n",
    "                    if \"음식 종류\" in th.text:\n",
    "                        foodType = tds[i].text.strip()   # 해당하는 td의 텍스트를 추출합니다\n",
    "                    if \"가격대\" in th.text:\n",
    "                        price = tds[i].text.strip() # 해당하는 td의 텍스트를 추출합니다\n",
    "                    if \"영업시간\" in th.text:\n",
    "                        runTime = tds[i].text.strip() # 해당하는 td의 텍스트를 추출합니다                \n",
    "            \n",
    "            location = pageSource.find(\"span\", attrs = {\"class\" : \"Restaurant__InfoAddress--Text\"}).get_text()\n",
    "            \n",
    "            newData = {\"title\" : [title], \"location\" : [location], \"estimation\" : [estimation], \"viewCount\": [viewCount], \"reviewCount\" : [reviewCount], \"foodType\" : [foodType], \"price\" : [price], \"runTime\" : [runTime]}\n",
    "            newData = pd.DataFrame(newData)\n",
    "            mangoData = pd.concat((mangoData, newData)).reset_index(drop = True)\n"
   ]
  },
  {
   "cell_type": "code",
   "execution_count": 16,
   "metadata": {
    "scrolled": true
   },
   "outputs": [
    {
     "data": {
      "text/html": [
       "<div>\n",
       "<style scoped>\n",
       "    .dataframe tbody tr th:only-of-type {\n",
       "        vertical-align: middle;\n",
       "    }\n",
       "\n",
       "    .dataframe tbody tr th {\n",
       "        vertical-align: top;\n",
       "    }\n",
       "\n",
       "    .dataframe thead th {\n",
       "        text-align: right;\n",
       "    }\n",
       "</style>\n",
       "<table border=\"1\" class=\"dataframe\">\n",
       "  <thead>\n",
       "    <tr style=\"text-align: right;\">\n",
       "      <th></th>\n",
       "      <th>title</th>\n",
       "      <th>location</th>\n",
       "      <th>estimation</th>\n",
       "      <th>viewCount</th>\n",
       "      <th>reviewCount</th>\n",
       "      <th>foodType</th>\n",
       "      <th>price</th>\n",
       "      <th>runTime</th>\n",
       "    </tr>\n",
       "  </thead>\n",
       "  <tbody>\n",
       "    <tr>\n",
       "      <th>0</th>\n",
       "      <td>플라워베이커리</td>\n",
       "      <td>서울시 강남구 신사동 517-5</td>\n",
       "      <td>3.5</td>\n",
       "      <td>11008.0</td>\n",
       "      <td>20.0</td>\n",
       "      <td>베이커리</td>\n",
       "      <td>만원 미만</td>\n",
       "      <td>10:00 - 22:00</td>\n",
       "    </tr>\n",
       "    <tr>\n",
       "      <th>1</th>\n",
       "      <td>온달집</td>\n",
       "      <td>서울시 강남구 신사동 514-4</td>\n",
       "      <td>3.5</td>\n",
       "      <td>22229.0</td>\n",
       "      <td>28.0</td>\n",
       "      <td>전통 주점 / 포차</td>\n",
       "      <td>만원-2만원</td>\n",
       "      <td>일-목: 17:00 - 05:00 금-토: 17:00 - 06:00</td>\n",
       "    </tr>\n",
       "    <tr>\n",
       "      <th>2</th>\n",
       "      <td>코다차야\\n                                    (가로수길점)</td>\n",
       "      <td>서울시 강남구 신사동 548-4</td>\n",
       "      <td>3.5</td>\n",
       "      <td>15279.0</td>\n",
       "      <td>31.0</td>\n",
       "      <td>이자카야 / 오뎅 / 꼬치</td>\n",
       "      <td>만원-2만원</td>\n",
       "      <td>17:00 - 03:00</td>\n",
       "    </tr>\n",
       "    <tr>\n",
       "      <th>3</th>\n",
       "      <td>신사양꼬치</td>\n",
       "      <td>서울시 강남구 신사동 515-10 2F</td>\n",
       "      <td>3.5</td>\n",
       "      <td>26457.0</td>\n",
       "      <td>21.0</td>\n",
       "      <td>기타 중식</td>\n",
       "      <td>2만원-3만원</td>\n",
       "      <td>None</td>\n",
       "    </tr>\n",
       "    <tr>\n",
       "      <th>4</th>\n",
       "      <td>미드타운</td>\n",
       "      <td>서울시 강남구 신사동 535-3</td>\n",
       "      <td>3.5</td>\n",
       "      <td>3309.0</td>\n",
       "      <td>9.0</td>\n",
       "      <td>브런치 / 버거 / 샌드위치</td>\n",
       "      <td>만원-2만원</td>\n",
       "      <td>None</td>\n",
       "    </tr>\n",
       "  </tbody>\n",
       "</table>\n",
       "</div>"
      ],
      "text/plain": [
       "                                               title               location  \\\n",
       "0                                            플라워베이커리      서울시 강남구 신사동 517-5   \n",
       "1                                                온달집      서울시 강남구 신사동 514-4   \n",
       "2  코다차야\\n                                    (가로수길점)      서울시 강남구 신사동 548-4   \n",
       "3                                              신사양꼬치  서울시 강남구 신사동 515-10 2F   \n",
       "4                                               미드타운      서울시 강남구 신사동 535-3   \n",
       "\n",
       "   estimation  viewCount  reviewCount         foodType    price  \\\n",
       "0         3.5    11008.0         20.0             베이커리    만원 미만   \n",
       "1         3.5    22229.0         28.0       전통 주점 / 포차   만원-2만원   \n",
       "2         3.5    15279.0         31.0   이자카야 / 오뎅 / 꼬치   만원-2만원   \n",
       "3         3.5    26457.0         21.0            기타 중식  2만원-3만원   \n",
       "4         3.5     3309.0          9.0  브런치 / 버거 / 샌드위치   만원-2만원   \n",
       "\n",
       "                                 runTime  \n",
       "0                          10:00 - 22:00  \n",
       "1  일-목: 17:00 - 05:00 금-토: 17:00 - 06:00  \n",
       "2                          17:00 - 03:00  \n",
       "3                                   None  \n",
       "4                                   None  "
      ]
     },
     "execution_count": 16,
     "metadata": {},
     "output_type": "execute_result"
    }
   ],
   "source": [
    "mangoData"
   ]
  },
  {
   "cell_type": "code",
   "execution_count": null,
   "metadata": {},
   "outputs": [],
   "source": [
    "mangoData.to_csv('mangoData.csv', index=False, encoding='utf-8')"
   ]
  },
  {
   "cell_type": "code",
   "execution_count": null,
   "metadata": {},
   "outputs": [],
   "source": [
    "geoData = pd.read_excel(r\"C:\\Users\\cxz01\\OneDrive\\바탕 화면\\soongsil university\\데이터사이언스\\팀프로젝트\\DS_Univ_5\\web_crawling\\mango\\geoData.xlsx\")\n",
    "geoData = geoData[geoData[\"시도\"] == \"서울특별시\"]\n",
    "geoData = geoData.drop_duplicates(subset = [\"시군구\", \"읍면동\"])\n",
    "geoData[\"geo\"] = geoData[\"시도\"] + \" \" + geoData[\"시군구\"] + \" \" + geoData[\"읍면동\"]\n",
    "geoData\n"
   ]
  },
  {
   "cell_type": "code",
   "execution_count": null,
   "metadata": {},
   "outputs": [],
   "source": [
    "mapData = pd.read_csv(r\"C:\\Users\\cxz01\\OneDrive\\바탕 화면\\soongsil university\\데이터사이언스\\팀프로젝트\\DS_Univ_5\\web_crawling\\mango\\mangoData.csv\")\n",
    "mapData[\"geo_1\"] = \"서울특별시\"\n",
    "mapData[\"geo_2\"] = mapData[\"location\"].str.split(\" \").str[1]\n",
    "mapData[\"geo_3\"] = mapData[\"location\"].str.split(\" \").str[2]\n",
    "mapData[\"geo\"] = mapData[\"geo_1\"] + \" \" + mapData[\"geo_2\"] + \" \" + mapData[\"geo_3\"]\n",
    "\n",
    "mapData = pd.merge(left = mapData, right = geoData[[\"위도\", \"경도\", \"geo\"]], how = \"left\", left_on = \"geo\", right_on = \"geo\")\n",
    "mapData = mapData.dropna(subset = [\"위도\",\"경도\"]).reset_index(drop=True)\n",
    "mapData"
   ]
  },
  {
   "cell_type": "code",
   "execution_count": null,
   "metadata": {},
   "outputs": [],
   "source": [
    "mapData.to_csv('mangoMapData.csv', index=False, encoding='utf-8')"
   ]
  },
  {
   "cell_type": "code",
   "execution_count": null,
   "metadata": {},
   "outputs": [],
   "source": [
    "mapData = mapData[['estimation','reviewCount','위도','경도']]"
   ]
  },
  {
   "cell_type": "code",
   "execution_count": null,
   "metadata": {},
   "outputs": [],
   "source": [
    "mapData"
   ]
  },
  {
   "cell_type": "code",
   "execution_count": null,
   "metadata": {},
   "outputs": [],
   "source": [
    "mapData.to_csv('mangoMapData2.csv', index=False, encoding='utf-8')"
   ]
  }
 ],
 "metadata": {
  "kernelspec": {
   "display_name": "Python 3 (ipykernel)",
   "language": "python",
   "name": "python3"
  },
  "language_info": {
   "codemirror_mode": {
    "name": "ipython",
    "version": 3
   },
   "file_extension": ".py",
   "mimetype": "text/x-python",
   "name": "python",
   "nbconvert_exporter": "python",
   "pygments_lexer": "ipython3",
   "version": "3.10.9"
  }
 },
 "nbformat": 4,
 "nbformat_minor": 2
}
